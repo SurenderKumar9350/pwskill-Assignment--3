{
 "cells": [
  {
   "cell_type": "code",
   "execution_count": 19,
   "id": "78f17501",
   "metadata": {},
   "outputs": [],
   "source": [
    "# QUESTION 1\n",
    "# def  keyword is used to create a function\n",
    "  \n",
    "#def fun():\n",
    "#     for i in range(1,25):\n",
    "#            if i % 2 != 0:\n",
    "#                print(i,end=\" \")\n",
    "                                    \n",
    "#fun()\n"
   ]
  },
  {
   "cell_type": "code",
   "execution_count": 30,
   "id": "1e46e01e",
   "metadata": {},
   "outputs": [],
   "source": [
    "#     QUESTION  2\n",
    "\n",
    "#You can use *args and *kwargs ias arguments of a function when you are unsure about the number of\n",
    "#arguments to pass in the function.\n",
    "\n",
    "#def fun(*args):\n",
    "#    for a in args:\n",
    "#        print(a)\n",
    "#fun(\"hello\",\"Surender Kumar\" )        \n",
    "\n",
    "\n",
    "\n",
    "#def fun(**kwargs):\n",
    "#    for a,b in kwargs.items():\n",
    "#        print(a,b)\n",
    "#fun(name=\"Surender Kumar\",I am studing in=\"B.voc Software Development 2 year\")\n",
    "\n",
    "\n",
    "\n",
    "\n",
    "\n",
    "\n"
   ]
  },
  {
   "cell_type": "code",
   "execution_count": 34,
   "id": "5fc40530",
   "metadata": {},
   "outputs": [],
   "source": [
    "#       QUESTION 3\n",
    "#Iteration:=\n",
    "#Repetitative execution of the same block of code over and over is reffered to as iteration\n",
    "#there are two type\n",
    "#1 Definite iteration\n",
    "#2 Indefine iteration\n",
    "\n",
    "#list=[2,4,6,8,10,12,14,16,18,20]\n",
    "\n",
    "#for i in list[0:4]:\n",
    "#    print(i)\n",
    "#    "
   ]
  },
  {
   "cell_type": "code",
   "execution_count": 37,
   "id": "9f29259c",
   "metadata": {},
   "outputs": [],
   "source": [
    "#      QUESTION 4\n",
    "\n",
    "#Generator function behave and look just like a normal function . Instead of returning data.\n",
    "#yield keyword is used in this function\n",
    "\n",
    "#def  generator():\n",
    "#    yield=\"hello Surender\"\n",
    "#    yield=\"hello Surender Kumar\"\n",
    "#obj=generator()\n",
    "#print(next(obj))\n",
    "\n",
    "\n"
   ]
  },
  {
   "cell_type": "code",
   "execution_count": 40,
   "id": "1ddf6c5c",
   "metadata": {},
   "outputs": [],
   "source": [
    "#  QESTION 6\n",
    "#FIBONACCI SERIES?\n",
    "\n",
    "#x,y=0,1\n",
    "#while y<10:\n",
    "#    print(y)\n",
    "#    x,y=y,x+y\n",
    "    \n",
    "    "
   ]
  },
  {
   "cell_type": "code",
   "execution_count": 46,
   "id": "74bbefa6",
   "metadata": {},
   "outputs": [],
   "source": [
    "# QUESTION 7\n",
    "\n",
    "#list=\"pwskills\"\n",
    "#list2=[]\n",
    "#for i in list:\n",
    "#    list2.append(i)\n",
    "#print(list2)    \n",
    "\n",
    "\n",
    "    \n",
    "\n"
   ]
  },
  {
   "cell_type": "code",
   "execution_count": 51,
   "id": "1f4ced00",
   "metadata": {},
   "outputs": [],
   "source": [
    "# QUESTION 9\n",
    "#list=[]\n",
    "#for a in range(1,100):\n",
    "#    if a % 2 !=0:\n",
    "#        list.append(a)\n",
    "#print(list)        \n",
    "\n",
    "        \n",
    "        \n",
    "        "
   ]
  },
  {
   "cell_type": "code",
   "execution_count": null,
   "id": "90008618",
   "metadata": {},
   "outputs": [],
   "source": []
  },
  {
   "cell_type": "code",
   "execution_count": null,
   "id": "f5ca6a37",
   "metadata": {},
   "outputs": [],
   "source": []
  }
 ],
 "metadata": {
  "kernelspec": {
   "display_name": "Python 3 (ipykernel)",
   "language": "python",
   "name": "python3"
  },
  "language_info": {
   "codemirror_mode": {
    "name": "ipython",
    "version": 3
   },
   "file_extension": ".py",
   "mimetype": "text/x-python",
   "name": "python",
   "nbconvert_exporter": "python",
   "pygments_lexer": "ipython3",
   "version": "3.9.13"
  }
 },
 "nbformat": 4,
 "nbformat_minor": 5
}
